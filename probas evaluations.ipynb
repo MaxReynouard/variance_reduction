{
 "cells": [
  {
   "cell_type": "code",
   "execution_count": 1,
   "metadata": {
    "ExecuteTime": {
     "end_time": "2023-07-14T08:33:38.693695Z",
     "start_time": "2023-07-14T08:33:38.637242Z"
    }
   },
   "outputs": [],
   "source": [
    "import scipy as sp\n",
    "import numpy as np"
   ]
  },
  {
   "cell_type": "markdown",
   "metadata": {
    "heading_collapsed": true
   },
   "source": [
    "# Random seed attacks"
   ]
  },
  {
   "cell_type": "code",
   "execution_count": 2,
   "metadata": {
    "ExecuteTime": {
     "end_time": "2023-07-14T08:33:40.478882Z",
     "start_time": "2023-07-14T08:33:39.457518Z"
    },
    "hidden": true
   },
   "outputs": [
    {
     "name": "stdout",
     "output_type": "stream",
     "text": [
      "STAKE OF 0.05: \n",
      "for 1 accounts, the expected gain is 3.8%\n",
      "for 2 accounts, the expected gain is 7.1%\n",
      "for 3 accounts, the expected gain is 9.8%\n",
      "for 4 accounts, the expected gain is 12.2%\n",
      "for 5 accounts, the expected gain is 14.3%\n",
      "\n",
      "\n",
      "STAKE OF 0.1: \n",
      "for 1 accounts, the expected gain is 2.6%\n",
      "for 2 accounts, the expected gain is 4.8%\n",
      "for 3 accounts, the expected gain is 6.7%\n",
      "for 4 accounts, the expected gain is 8.4%\n",
      "for 5 accounts, the expected gain is 9.8%\n",
      "\n",
      "\n",
      "STAKE OF 0.2: \n",
      "for 1 accounts, the expected gain is 1.8%\n",
      "for 2 accounts, the expected gain is 3.2%\n",
      "for 3 accounts, the expected gain is 4.5%\n",
      "for 4 accounts, the expected gain is 5.5%\n",
      "for 5 accounts, the expected gain is 6.5%\n",
      "\n",
      "\n",
      "STAKE OF 0.3: \n",
      "for 1 accounts, the expected gain is 1.3%\n",
      "for 2 accounts, the expected gain is 2.5%\n",
      "for 3 accounts, the expected gain is 3.4%\n",
      "for 4 accounts, the expected gain is 4.2%\n",
      "for 5 accounts, the expected gain is 5.0%\n",
      "\n",
      "\n"
     ]
    }
   ],
   "source": [
    "R=2**12 # distributing R rights\n",
    "N=10**6 # Size of simulation vector\n",
    "P=[0.05,0.1,0.2,0.3] # different stakes considered\n",
    "k=2**5 # 2** nb of accounts considered\n",
    "\n",
    "for p in P :\n",
    "    X = np.random.binomial(R,p,N)\n",
    "    Xmean = X.mean() # to prevent several calculations\n",
    "    X_max = X[:-k] # initialize the best choice vector \n",
    "    j=1\n",
    "    print(f'STAKE OF {p}: ')\n",
    "    for i in range(1,k+1): # loop on the number of draw to choose from-1 \n",
    "        X_max = np.maximum(X[i:N-k+i],X_max) # for every additional draw take the best\n",
    "        if i+1 == 2**j: # when the loop on nb of draw-1 corresponds to nb of accounts\n",
    "            Y = X_max - X[:-k] # what was gained from the attack\n",
    "            print(f'for {j} accounts, the expected gain is {(100*Y.mean()/X.mean()):.1f}%')\n",
    "            j+=1\n",
    "    print('\\n')\n",
    "    #         print(f'j = {j}')"
   ]
  },
  {
   "cell_type": "markdown",
   "metadata": {
    "heading_collapsed": true,
    "hidden": true
   },
   "source": [
    "### For sybil countermeasures (Work in progress)"
   ]
  },
  {
   "cell_type": "code",
   "execution_count": null,
   "metadata": {
    "ExecuteTime": {
     "end_time": "2023-02-03T10:17:18.942691Z",
     "start_time": "2023-02-03T10:17:16.122671Z"
    },
    "hidden": true
   },
   "outputs": [],
   "source": [
    "R=2**12\n",
    "N=10**6\n",
    "p=0.3\n",
    "q=(1-p)*0.95\n",
    "X = np.random.binomial(int(R*(1-q))+1,p/(1-q),N)\n",
    "k=2**10\n",
    "\n",
    "X_max = X[:-k]\n",
    "j=1\n",
    "for i in range(1,k+1):\n",
    "    X_max = np.maximum(X[i:N-k+i],X_max)\n",
    "    if i+1 == 2**j:    \n",
    "        Y = np.maximum(0,X_max - X[:-k])\n",
    "        print(f'for {j} accounts, the expected gain is {Y.mean()/X.mean()}')\n",
    "        j+=1\n",
    "#         print(f'j = {j}')"
   ]
  },
  {
   "cell_type": "code",
   "execution_count": null,
   "metadata": {
    "ExecuteTime": {
     "end_time": "2023-03-16T11:44:24.846549Z",
     "start_time": "2023-03-16T11:44:24.834756Z"
    },
    "hidden": true
   },
   "outputs": [],
   "source": [
    "a = np.ones((3,1))\n",
    "b = np.ones((1,10))\n",
    "\n"
   ]
  },
  {
   "cell_type": "code",
   "execution_count": null,
   "metadata": {
    "ExecuteTime": {
     "end_time": "2023-02-03T10:07:19.501199Z",
     "start_time": "2023-02-03T10:07:19.481207Z"
    },
    "hidden": true
   },
   "outputs": [],
   "source": [
    "0.7*95\n"
   ]
  },
  {
   "cell_type": "code",
   "execution_count": null,
   "metadata": {
    "hidden": true
   },
   "outputs": [],
   "source": []
  }
 ],
 "metadata": {
  "hide_input": false,
  "kernelspec": {
   "display_name": "Python 3",
   "language": "python",
   "name": "python3"
  },
  "language_info": {
   "codemirror_mode": {
    "name": "ipython",
    "version": 3
   },
   "file_extension": ".py",
   "mimetype": "text/x-python",
   "name": "python",
   "nbconvert_exporter": "python",
   "pygments_lexer": "ipython3",
   "version": "3.8.5"
  },
  "toc": {
   "base_numbering": 1,
   "nav_menu": {},
   "number_sections": true,
   "sideBar": true,
   "skip_h1_title": false,
   "title_cell": "Table of Contents",
   "title_sidebar": "Contents",
   "toc_cell": false,
   "toc_position": {},
   "toc_section_display": true,
   "toc_window_display": false
  },
  "varInspector": {
   "cols": {
    "lenName": 16,
    "lenType": 16,
    "lenVar": 40
   },
   "kernels_config": {
    "python": {
     "delete_cmd_postfix": "",
     "delete_cmd_prefix": "del ",
     "library": "var_list.py",
     "varRefreshCmd": "print(var_dic_list())"
    },
    "r": {
     "delete_cmd_postfix": ") ",
     "delete_cmd_prefix": "rm(",
     "library": "var_list.r",
     "varRefreshCmd": "cat(var_dic_list()) "
    }
   },
   "types_to_exclude": [
    "module",
    "function",
    "builtin_function_or_method",
    "instance",
    "_Feature"
   ],
   "window_display": false
  }
 },
 "nbformat": 4,
 "nbformat_minor": 4
}
