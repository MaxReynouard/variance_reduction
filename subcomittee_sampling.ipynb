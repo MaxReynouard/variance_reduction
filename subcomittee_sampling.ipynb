{
 "cells": [
  {
   "cell_type": "code",
   "execution_count": 1,
   "id": "e4820ee8",
   "metadata": {},
   "outputs": [],
   "source": [
    "import numpy as np\n",
    "import scipy as sp\n",
    "from math import floor\n",
    "from math import sqrt\n",
    "from scipy.stats import binom\n",
    "from scipy.stats import rv_discrete\n",
    "from tqdm import tqdm"
   ]
  },
  {
   "cell_type": "markdown",
   "id": "cd8a2ab9",
   "metadata": {},
   "source": [
    "### Subcommitee sampling"
   ]
  },
  {
   "cell_type": "code",
   "execution_count": 2,
   "id": "589915ae",
   "metadata": {},
   "outputs": [
    {
     "name": "stdout",
     "output_type": "stream",
     "text": [
      "5 biggest stakes shares [0.14785, 0.06491, 0.0522, 0.0484, 0.03226]\n"
     ]
    }
   ],
   "source": [
    "# table of stakes (about top100 public + top100 private from tzstats on 2023 07 10)\n",
    "S = [0.06491, 0.0522, 0.0484, 0.02561, 0.02148, 0.01188, 0.01174, 0.01033, 0.00869, 0.00857, 0.00685, 0.00665, 0.00454, 0.0044, 0.00408, 0.00376, 0.00371, 0.00352, 0.00345, 0.00341, 0.00329, 0.00328, 0.00283, 0.00261, 0.00253, 0.00229, 0.00224, 0.00215, 0.00211, 0.002, 0.00192, 0.00165, 0.00163, 0.00155, 0.00153, 0.00152, 0.00143, 0.00142, 0.00142, 0.00126, 0.00122, 0.00104, 0.00103, 0.00097, 0.00095, 0.00093, 0.00092, 0.00087, 0.00083, 0.00081, 0.00075, 0.00074, 0.00072, 0.0007, 0.00067, 0.00066, 0.00065, 0.00064, 0.00063, 0.00063, 0.00059, 0.00059, 0.00054, 0.00054, 0.00053, 0.00051, 0.00051, 0.00047, 0.00045, 0.00039, 0.00037, 0.00036, 0.00034, 0.00034, 0.00032, 0.00032, 0.0003, 0.0003, 0.0003, 0.0003, 0.00029, 0.00028, 0.00028, 0.00024, 0.00024, 0.00024, 0.00021, 0.00019, 0.00018, 0.00018, 0.00018, 0.00017, 0.00017, 0.00017, 0.00016, 0.00016, 0.00016, 0.00015, 0.00014, 0.00013, 0.00012, 0.00011, 0.00011, 0.00011, 0.00011, 0.0001, 0.0001, 0.0001, 0.00009, 0.00008, 0.00008, 0.00007, 0.00007, 0.00007, 0.00006, 0.00006, 0.00006, 0.00004, 0.00004, 0.00004, 0.00004, 0.00003, 0.00003, 0.00002, 0.00002, 0.00002, 0.00002, 0.00002, 0.00002, 0.00002, 0.00002, 0.00002, 0.00002, 0.00002, 0.00001, 0.00001, 0.14785, 0.03226, 0.02632, 0.02542, 0.02071, 0.01957, 0.0194, 0.01914, 0.01913, 0.01883, 0.01879, 0.01865, 0.0162, 0.01595, 0.01536, 0.01001, 0.01001, 0.00984, 0.00965, 0.00927, 0.00927, 0.00926, 0.0091, 0.0091, 0.00902, 0.00849, 0.00804, 0.00457, 0.0044, 0.00402, 0.00361, 0.0035, 0.00315, 0.00309, 0.00288, 0.00245, 0.00213, 0.00158, 0.0014, 0.0014, 0.00136, 0.00135, 0.00123, 0.00119, 0.00111, 0.001, 0.00096, 0.00091, 0.00084, 0.00082, 0.00081, 0.00074, 0.00073, 0.00067, 0.00063, 0.00063, 0.00061, 0.00061, 0.00061, 0.00059, 0.00058, 0.00056, 0.00052, 0.0005, 0.00041, 0.0004, 0.0004, 0.00036, 0.00035, 0.00034, 0.00033, 0.00029, 0.00028, 0.00028, 0.00027, 0.00026, 0.00025, 0.00024, 0.00022, 0.00022, 0.00021, 0.0002, 0.00019, 0.00019, 0.00018, 0.00018, 0.00018, 0.00017, 0.00017, 0.00016, 0.00016, 0.00015, 0.00015, 0.00014, 0.00014, 0.00014, 0.00013, 0.00013, 0.00013, 0.00012, 0.00012, 0.00012, 0.00012, 0.00012, 0.00012, 0.00012, 0.00011, 0.00011, 0.00011, 0.00011, 0.00011, 0.00011, 0.0001, 0.00009, 0.00009, 0.00009, 0.00009, 0.00008, 0.00008, 0.00008, 0.00008, 0.00008, 0.00008, 0.00008, 0.00008, 0.00007, 0.00007, 0.00007, 0.00007, 0.00007, 0.00007, 0.00007, 0.00007, 0.00006, 0.00006, 0.00006, 0.00006, 0.00005, 0.00005, 0.00005, 0.00005, 0.00005, 0.00005, 0.00005, 0.00004, 0.00004, 0.00004, 0.00004, 0.00004, 0.00004, 0.00004, 0.00004, 0.00004, 0.00004, 0.00004, 0.00004, 0.00004, 0.00003, 0.00003, 0.00003, 0.00003, 0.00003, 0.00003, 0.00003, 0.00003, 0.00003, 0.00003, 0.00003, 0.00003, 0.00003, 0.00003, 0.00003, 0.00003, 0.00003, 0.00003, 0.00003, 0.00003, 0.00003, 0.00003, 0.00003, 0.00003, 0.00003, 0.00003, 0.00003, 0.00003, 0.00002, 0.00002, 0.00002, 0.00002, 0.00002, 0.00002, 0.00002, 0.00002, 0.00002, 0.00002, 0.00002, 0.00002, 0.00002, 0.00002, 0.00002, 0.00002, 0.00002, 0.00002, 0.00002, 0.00002, 0.00002, 0.00002, 0.00002, 0.00002, 0.00002, 0.00002, 0.00002, 0.00002, 0.00002, 0.00002, 0.00002, 0.00002, 0.00002, 0.00002, 0.00002, 0.00002, 0.00002, 0.00002, 0.00002, 0.00002, 0.00002, 0.00002, 0.00002, 0.00001, 0.00001, 0.00001, 0.00001, 0.00001, 0.00001, 0.00001, 0.00001, 0.00001, 0.00001, 0.00001, 0.00001, 0.00001, 0.00001, 0.00001, 0.00001, 0.00001, 0.00001, 0.00001, 0.00001, 0.00001, 0.00001, 0.00001, 0.00001, 0.00001, 0.00001, 0.00001, 0.00001, 0.00001, 0.00001, 0.00001, 0.00001]\n",
    "S.sort(reverse=True)\n",
    "print('5 biggest stakes shares',S[:5])"
   ]
  },
  {
   "cell_type": "code",
   "execution_count": 3,
   "id": "d938b4ca",
   "metadata": {
    "code_folding": [
     0
    ]
   },
   "outputs": [],
   "source": [
    "def find_guarantee(eps=1/(100*365.25*24*60*60), p=0.3, shift =1/30, mini = 0, maxi = 10000):\n",
    "    # find min(n) such that for X = binom(n,p) P(X>=p*n + shift*n) <= eps, and (mini <= n <= maxi)\n",
    "    if mini == maxi :\n",
    "        return mini\n",
    "    n = (mini + maxi) //2\n",
    "    X= binom(n,p)\n",
    "    if 1-X.cdf(p*n + shift*n) <= eps:\n",
    "        return find_guarantee(eps,p, shift, mini, n)\n",
    "    else:\n",
    "        return find_guarantee(eps,p, shift, max(n,mini+1), maxi)\n",
    "     \n",
    "def find_guarantee_given_S(S,eps=1/(100*365.25*24*60*60), p=0.5, shift =1/30, mini = 0, maxi = 10000):\n",
    "    # find min(n) such that for X = binom(n,p) P(X>=p*n + shift*n) <= eps, and (mini <= n <= maxi)\n",
    "    # with the variance reduced distribution, and using the stake distribution S\n",
    "    if mini == maxi :\n",
    "        return mini\n",
    "    n = (mini + maxi) //2\n",
    "    L = round(n*(1-sum([floor(s*n)/n for s in S])))\n",
    "    X= binom(L,p)\n",
    "    if 1-X.cdf(p*L + shift*n) <= eps:\n",
    "        return find_guarantee_given_S(S,eps,p, shift, mini, n)\n",
    "    else:\n",
    "        return find_guarantee_given_S(S,eps,p, shift, max(n,mini+1), maxi)"
   ]
  },
  {
   "cell_type": "code",
   "execution_count": 4,
   "id": "f78d52a9",
   "metadata": {
    "code_folding": [
     0,
     20
    ]
   },
   "outputs": [],
   "source": [
    "def estimate_nb_endors(S=S,n=7000,e=10**4) :\n",
    "#    Given that each agent only sends 1 endorsement message even if he gets several slots \n",
    "#    how many message will there be ? <-- this function \n",
    "    \n",
    "#     normalize S and create a random variable\n",
    "    S_sum=sum(S)\n",
    "    S_norm=[s/S_sum for s in S]\n",
    "    X_S = rv_discrete(name='S_distrib', values=(list(range(len(S))), S_norm))\n",
    "    \n",
    "#     naïve simulation\n",
    "    tot=0\n",
    "    totV=0\n",
    "    for _ in tqdm(range(e)):\n",
    "        x = np.unique(X_S.rvs(size = n)).size\n",
    "        tot+= x\n",
    "        totV+= x**2\n",
    "    mean = tot/e\n",
    "    std = sqrt(totV/e-mean**2)\n",
    "    return (mean,std)\n",
    "\n",
    "def estimate_nb_endors_up(S=S,n=870,e=10**4):\n",
    "#    Given that each agent only sends 1 endorsement message even if he gets several slots \n",
    "#    how many message will there be ? <-- this function, but this time with the new method and given S \n",
    "    \n",
    "\n",
    "#     compute number of \"free\" slots L\n",
    "    L = round(n*(1-sum([floor(s*n)/n for s in S])))\n",
    "#     actualize the random distribution then normalize, and create random variable\n",
    "\n",
    "    S_L = [s%(1/n) for s in S]\n",
    "    S_sum = sum(S_L)\n",
    "    S_norm = [s/S_sum for s in S_L]\n",
    "    X_S = rv_discrete(name='S_distrib', values=(list(range(len(S))), S_norm))\n",
    "#     number of baker that automatically get >= 1 slot\n",
    "    n_big = sum([floor(S[i]*n)>=1 for i in range(100)])\n",
    "    \n",
    "#     naïve simulation, filtering the slot randomly attributed to a \"big\" baker\n",
    "    tot=0\n",
    "    totV=0\n",
    "    for _ in tqdm(range(e)):\n",
    "        x = sum(np.unique(X_S.rvs(size = n))>= n_big)\n",
    "        tot+= x\n",
    "        totV+= x**2\n",
    "    mean = tot/e\n",
    "    std = sqrt(totV/e-mean**2)\n",
    "    return (mean,std)"
   ]
  },
  {
   "cell_type": "code",
   "execution_count": 5,
   "id": "0c384cbe",
   "metadata": {},
   "outputs": [
    {
     "name": "stderr",
     "output_type": "stream",
     "text": [
      "100%|████████████████████████████████████| 10000/10000 [00:21<00:00, 471.83it/s]\n"
     ]
    },
    {
     "name": "stdout",
     "output_type": "stream",
     "text": [
      "for the naïve rights distribution, we need 7353 of slots\n",
      "meaning with current S, in average there is 230.6 endorsements, with standard deviation 6.5\n"
     ]
    },
    {
     "name": "stderr",
     "output_type": "stream",
     "text": [
      "100%|███████████████████████████████████| 10000/10000 [00:03<00:00, 2535.03it/s]"
     ]
    },
    {
     "name": "stdout",
     "output_type": "stream",
     "text": [
      "for the improved rights distribution, we need 870 of slots\n",
      "meaning with current S, in average there is 155.8 endorsements, with standard deviation 6.1\n"
     ]
    },
    {
     "name": "stderr",
     "output_type": "stream",
     "text": [
      "\n"
     ]
    }
   ],
   "source": [
    "(mean,std) = estimate_nb_endors()\n",
    "print(f'for the naïve rights distribution, we need {find_guarantee()} of slots')\n",
    "print(f'meaning with current S, in average there is {mean:.1f} endorsements, with standard deviation {std:.1f}') \n",
    "    \n",
    "(mean,std) =  estimate_nb_endors_up()\n",
    "print(f'for the improved rights distribution, we need {find_guarantee_given_S(S)} of slots')\n",
    "print(f'meaning with current S, in average there is {mean:.1f} endorsements, with standard deviation {std:.1f}')"
   ]
  },
  {
   "cell_type": "code",
   "execution_count": null,
   "id": "64793764",
   "metadata": {},
   "outputs": [],
   "source": []
  }
 ],
 "metadata": {
  "kernelspec": {
   "display_name": "Python 3 (ipykernel)",
   "language": "python",
   "name": "python3"
  },
  "language_info": {
   "codemirror_mode": {
    "name": "ipython",
    "version": 3
   },
   "file_extension": ".py",
   "mimetype": "text/x-python",
   "name": "python",
   "nbconvert_exporter": "python",
   "pygments_lexer": "ipython3",
   "version": "3.10.12"
  }
 },
 "nbformat": 4,
 "nbformat_minor": 5
}
